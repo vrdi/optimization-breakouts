{
 "cells": [
  {
   "cell_type": "markdown",
   "metadata": {},
   "source": [
    "# Linear and Integer Programming Breakout Notebook"
   ]
  },
  {
   "cell_type": "markdown",
   "metadata": {},
   "source": [
    "\n",
    "\n",
    "If you don't have cvxpy, you should run the following block. It may take a few minutes.  Make sure you did `conda activate vrdi` or the equivalent before starting up Jupyter.\n",
    "\n"
   ]
  },
  {
   "cell_type": "code",
   "execution_count": null,
   "metadata": {},
   "outputs": [],
   "source": [
    "# conda install cvxpy\n",
    "import sys\n",
    "!conda config --add channels oxfordcontrol\n",
    "!conda install -c conda-forge lapack --yes\n",
    "!conda install -c cvxgrp cvxpy=1.0.24 --yes\n",
    "!conda install --yes --prefix {sys.prefix} cvxpy"
   ]
  },
  {
   "cell_type": "markdown",
   "metadata": {},
   "source": [
    "### If the above doesn't work, use"
   ]
  },
  {
   "cell_type": "code",
   "execution_count": null,
   "metadata": {},
   "outputs": [],
   "source": [
    "%pip install cvxpy"
   ]
  },
  {
   "cell_type": "markdown",
   "metadata": {},
   "source": [
    "## Start with imports -- dont skip these!"
   ]
  },
  {
   "cell_type": "code",
   "execution_count": null,
   "metadata": {},
   "outputs": [],
   "source": [
    "# Imports\n",
    "import numpy as np\n",
    "import cvxpy as cp\n",
    "import networkx as nx\n",
    "import itertools\n",
    "import time\n",
    "from IPython.display import clear_output\n",
    "from itertools import chain, combinations\n",
    "\n",
    "import geopandas as gpd\n",
    "from gerrychain.graph import Graph"
   ]
  },
  {
   "cell_type": "markdown",
   "metadata": {},
   "source": [
    "## The Diet Problem"
   ]
  },
  {
   "cell_type": "markdown",
   "metadata": {},
   "source": [
    "Let's start by creating our variables and writing down the objective function:"
   ]
  },
  {
   "cell_type": "code",
   "execution_count": null,
   "metadata": {},
   "outputs": [],
   "source": [
    "## The diet problem\n",
    "x = cp.Variable(6)#, integer = True)\n",
    "\n",
    "objective = cp.Minimize(\n",
    "     3*x[0] + \n",
    "    24*x[1] + \n",
    "    13*x[2] + \n",
    "     9*x[3] + \n",
    "    20*x[4] +\n",
    "    19*x[5]\n",
    ")"
   ]
  },
  {
   "cell_type": "markdown",
   "metadata": {},
   "source": [
    "...and add the constraints."
   ]
  },
  {
   "cell_type": "code",
   "execution_count": null,
   "metadata": {},
   "outputs": [],
   "source": [
    "constraints = [\n",
    "    (110*x[0] + 205*x[1] + 160*x[2] + 160*x[3] + 420*x[4] + 260*x[5] >= 2000),\n",
    "    (4*x[0] + 32*x[1] + 13*x[2] + 8*x[3] + 4*x[4]  + 14*x[5] >= 55),\n",
    "    (2*x[0] + 12*x[1] + 54*x[2] + 285*x[3] + 22*x[4]  + 80*x[5] >= 800),\n",
    "    (0 <= x[0]), (x[0] <= 4),\n",
    "    (0 <= x[1]), (x[1] <= 3),\n",
    "    (0 <= x[2]), (x[2] <= 2),\n",
    "    (0 <= x[3]), (x[3] <= 8),\n",
    "    (0 <= x[4]), (x[4] <= 2),\n",
    "    (0 <= x[5]), (x[5] <= 2)\n",
    "]"
   ]
  },
  {
   "cell_type": "markdown",
   "metadata": {},
   "source": [
    "The problem is to optimize `objective` subject to `constraints`, and `cvxpy` can solve this problem!"
   ]
  },
  {
   "cell_type": "code",
   "execution_count": null,
   "metadata": {},
   "outputs": [],
   "source": [
    "prob = cp.Problem(objective,constraints)\n",
    "prob.solve()\n",
    "\n",
    "# Print result.\n",
    "print(\"\\nThe optimal value is {}\".format(np.round_(prob.value,3)))\n",
    "print(\"A solution x is \\n{}\".format(np.round_(x.value,3)))"
   ]
  },
  {
   "cell_type": "markdown",
   "metadata": {},
   "source": [
    "## Shortest s-t Path"
   ]
  },
  {
   "cell_type": "markdown",
   "metadata": {},
   "source": [
    "It's going to be convenient to represent the graph as a collection of triples `(u,v,w)` where `u,v` is an arc in the graph and `w` is the weight of the arc."
   ]
  },
  {
   "cell_type": "code",
   "execution_count": null,
   "metadata": {},
   "outputs": [],
   "source": [
    "edges = [\n",
    "    (1,2,8),  #edges[0]\n",
    "    (1,3,15), #edges[1]\n",
    "    (1,4,9),  #edges[2]\n",
    "    (2,3,13), #edges[3]\n",
    "    (3,5,6),  #edges[4]\n",
    "    (3,7,5),  #edges[5]\n",
    "    (4,5,13), #edges[6]\n",
    "    (5,6,7),  #edges[7]\n",
    "    (6,8,4),  #edges[8]\n",
    "    (7,6,9),  #edges[9]\n",
    "    (7,8,18)  #edges[10]\n",
    "]\n",
    "\n",
    "# we need a binary variable for each edge\n",
    "#x_e = cp.Variable(len(edges), integer=True)\n",
    "x_e = cp.Variable(len(edges), integer = True)"
   ]
  },
  {
   "cell_type": "markdown",
   "metadata": {},
   "source": [
    "The objective is to minimize the total weights of the edges carrying flow..."
   ]
  },
  {
   "cell_type": "code",
   "execution_count": null,
   "metadata": {},
   "outputs": [],
   "source": [
    "wts = np.array([e[2] for e in edges])\n",
    "\n",
    "objective = cp.Minimize( wts.T @ x_e)"
   ]
  },
  {
   "cell_type": "markdown",
   "metadata": {},
   "source": [
    "...subject to the constraints that one unit must leave s, one unit must arrive at t, and the net flow at all other vertices is zero."
   ]
  },
  {
   "cell_type": "code",
   "execution_count": null,
   "metadata": {},
   "outputs": [],
   "source": [
    "# for each node u, the total value of the flow leaving \n",
    "# it minus the total value of the flow into it should be\n",
    "# 1 if u is the source, -1 if u is the destination, and 0 otherwise\n",
    "\n",
    "\n",
    "# constraints\n",
    "constraints = []\n",
    "# variables positive\n",
    "constraints += [(x_e >= 0)]\n",
    "\n",
    "# one unit leaving the source (u=1)\n",
    "constraints += [(x_e[0] + x_e[1] + x_e[2] == 1)]\n",
    "\n",
    "# one unit entering the sink (u=8)\n",
    "constraints += [(-x_e[8] - x_e[10] == -1)]\n",
    "\n",
    "# the net flow at each other vertex is zero\n",
    "constraints += [(cp.sum([ x_e[j] for j in range(11) if edges[j][0] == v]) + \n",
    "                 cp.sum([-x_e[j] for j in range(11) if edges[j][1] == v]) == 0 ) \n",
    "                for v in range(2,8)]\n",
    "\n",
    "\n",
    "\n",
    "\n",
    "\n",
    "## this is the same set of constraints, more readable, more lines\n",
    "\n",
    "# # one unit leaving the source (u=1)\n",
    "# constraints += [(x_e[0] + x_e[1] + x_e[2] == 1)]\n",
    "\n",
    "# # one unit entering the sink (u=8)\n",
    "# constraints += [(-x_e[8] - x_e[10] == -1)]\n",
    "\n",
    "# # u=2\n",
    "# constraints += [(x_e[0] - x_e[3]) == 0]\n",
    "\n",
    "# # u=3\n",
    "# constraints += [(x_e[1] + x_e[3] - x_e[4]) - x_e[5] == 0]\n",
    "\n",
    "# # u=4\n",
    "# constraints += [(x_e[2] - x_e[6]) == 0]\n",
    "\n",
    "# # u=5\n",
    "# constraints += [(x_e[4] + x_e[6]) - x_e[7] == 0]\n",
    "\n",
    "# # u=5\n",
    "# constraints += [(x_e[4] + x_e[6]) - x_e[7] == 0]\n",
    "\n",
    "# # u=6\n",
    "# constraints += [(x_e[7] + x_e[9]) - x_e[8] == 0]\n",
    "\n",
    "# # u=7\n",
    "# constraints += [(x_e[5] - x_e[9]) - x_e[10] == 0]"
   ]
  },
  {
   "cell_type": "markdown",
   "metadata": {},
   "source": [
    "Let's solve!  After you solve the Integer program, go back and remove the stipulation that the `Variable`s are integers and check that you get the same objective value."
   ]
  },
  {
   "cell_type": "code",
   "execution_count": null,
   "metadata": {},
   "outputs": [],
   "source": [
    "print(\"solving\")\n",
    "\n",
    "prob = cp.Problem(objective,constraints)\n",
    "prob.solve()\n",
    "\n",
    "# Print result.\n",
    "print(\"\\nThe optimal value is {}\".format(np.round_(prob.value,3)))\n",
    "print(\"A solution x is \\n {}\".format(np.round_(x_e.value,3)))"
   ]
  },
  {
   "cell_type": "markdown",
   "metadata": {},
   "source": [
    "This is the second attempt, and is actually the dual of the previous one.\n",
    "\n",
    "The objective is to maximize the total distance that we can pull t from s..."
   ]
  },
  {
   "cell_type": "code",
   "execution_count": null,
   "metadata": {},
   "outputs": [],
   "source": [
    "edges = [\n",
    "    (1,2,8),  #edges[0]\n",
    "    (1,3,15), #edges[1]\n",
    "    (1,4,9),  #edges[2]\n",
    "    (2,3,13), #edges[3]\n",
    "    (3,5,6),  #edges[4]\n",
    "    (3,7,5),  #edges[5]\n",
    "    (4,5,13), #edges[6]\n",
    "    (5,6,7),  #edges[7]\n",
    "    (6,8,4),  #edges[8]\n",
    "    (7,6,9),  #edges[9]\n",
    "    (7,8,18)  #edges[10]\n",
    "]\n",
    "\n",
    "\n",
    "# a binary variable for each node\n",
    "x_v = cp.Variable(8, integer = True)\n",
    "\n",
    "objective = cp.Maximize( x_v[7])"
   ]
  },
  {
   "cell_type": "markdown",
   "metadata": {},
   "source": [
    "...subject to the constraints that the distances between pairs of vertices follow a triangle inequality with respect to the edge weights."
   ]
  },
  {
   "cell_type": "code",
   "execution_count": null,
   "metadata": {},
   "outputs": [],
   "source": [
    "# constraints\n",
    "constraints = []\n",
    "# s is distance 0 from itself\n",
    "constraints += [(x_v[0]) == 0]\n",
    "\n",
    "# the distance from s to any vertex v is at most the distance to a \n",
    "# predecessor u of v plus the length of the arc connecting u to v\n",
    "for e in edges:\n",
    "    constraints += [(x_v[e[1]-1] - x_v[e[0]-1]  <= e[2]  )]"
   ]
  },
  {
   "cell_type": "markdown",
   "metadata": {},
   "source": [
    "And solve! Again, check that relaxing this to a linear, rather than integer, program gives the same objective value."
   ]
  },
  {
   "cell_type": "code",
   "execution_count": null,
   "metadata": {},
   "outputs": [],
   "source": [
    "print(\"solving\")\n",
    "tic = time.time()\n",
    "prob = cp.Problem(objective,constraints)\n",
    "prob.solve()\n",
    "\n",
    "# Print result.\n",
    "print(\"\\nThe optimal value is {}\".format(np.round_(prob.value,3)))\n",
    "print(\"A solution x is \\n {}\".format(np.round_(x_e.value,3)))"
   ]
  },
  {
   "cell_type": "code",
   "execution_count": null,
   "metadata": {},
   "outputs": [],
   "source": []
  },
  {
   "cell_type": "markdown",
   "metadata": {},
   "source": [
    "## Here's some demo code for the MA problem"
   ]
  },
  {
   "cell_type": "markdown",
   "metadata": {},
   "source": [
    "Let's do the 2012 Senate election (Brown (R, incumbent) v Warren (D)).  Brown did fairly well overall and it is possible to find R-majority district-sized collections of precincts."
   ]
  },
  {
   "cell_type": "code",
   "execution_count": null,
   "metadata": {},
   "outputs": [],
   "source": [
    "# setup -- SLOW\n",
    "\n",
    "df = gpd.read_file(\"https://github.com/mggg-states/MA-shapefiles/raw/master/MA_no_islands_12_16.zip\")\n",
    "   \n",
    "graph = Graph.from_geodataframe(df, reproject=True,ignore_errors=True)\n",
    "graph.add_data(df,list(df))"
   ]
  },
  {
   "cell_type": "code",
   "execution_count": null,
   "metadata": {},
   "outputs": [],
   "source": [
    "pops = [int(p) for p in list(nx.get_node_attributes(graph,\"Population\").values())]\n",
    "r_margin = [int(r.replace(\",\",\"\"))-int(d.replace(\",\",\"\")) for r,d in zip(list(nx.get_node_attributes(graph,\"SEN12R\").values()), \n",
    "                               list(nx.get_node_attributes(graph,\"SEN12D\").values()))]"
   ]
  },
  {
   "cell_type": "code",
   "execution_count": null,
   "metadata": {},
   "outputs": [],
   "source": [
    "# Boolean variables assigning units to districts\n",
    "district = cp.Variable(len(pops), boolean=True)\n",
    "\n",
    "# cast the lists to np arrays\n",
    "pops = np.array(pops)\n",
    "r_margin = np.array(r_margin)\n",
    "\n",
    "\n",
    "constraints = []\n",
    "\n",
    "# the population of our district shouldn't be too big or too small\n",
    "constraints += [(pops.T @ district >= 726500)]\n",
    "constraints += [(pops.T @ district <= 728500)]\n",
    "\n",
    "\n",
    "\n",
    "# we want to maximize the total republican margin in the district\n",
    "objective = cp.Maximize( r_margin.T @ district)\n",
    "\n",
    "\n",
    "print(\"solving\")\n",
    "prob = cp.Problem(objective,constraints)\n",
    "prob.solve()\n",
    "\n",
    "# Print result.\n",
    "print(\"The optimal value is {}\".format(int( prob.value)))\n",
    "print(\"A solution is probably too big to print, but you can do it in the next block...\")\n"
   ]
  },
  {
   "cell_type": "code",
   "execution_count": null,
   "metadata": {},
   "outputs": [],
   "source": [
    "print(list(district.value))"
   ]
  },
  {
   "cell_type": "markdown",
   "metadata": {},
   "source": [
    "If we try with the 2006 Senate election, where Kennedy (D, incumbent) beat Chase (R) with a statewide 70% majority, we can't find such a collection."
   ]
  },
  {
   "cell_type": "code",
   "execution_count": null,
   "metadata": {},
   "outputs": [],
   "source": [
    "# setup -- SLOW\n",
    "\n",
    "df = gpd.read_file(\"https://github.com/mggg-states/MA-shapefiles/raw/master/MA_no_islands_02_10.zip\")\n",
    "   \n",
    "graph = Graph.from_geodataframe(df, reproject=True,ignore_errors=True)\n",
    "graph.add_data(df,list(df))"
   ]
  },
  {
   "cell_type": "code",
   "execution_count": null,
   "metadata": {},
   "outputs": [],
   "source": [
    "pops = [int(p) for p in list(nx.get_node_attributes(graph,\"POP2000\").values())]\n",
    "r_margin = [int(str(r).replace(\",\",\"\"))-int(str(d).replace(\",\",\"\")) for r,d in zip(list(nx.get_node_attributes(graph,\"SEN06R\").values()), \n",
    "                               list(nx.get_node_attributes(graph,\"SEN06D\").values()))]"
   ]
  },
  {
   "cell_type": "code",
   "execution_count": null,
   "metadata": {},
   "outputs": [],
   "source": [
    "# Boolean variables assigning units to districts\n",
    "district = cp.Variable(len(pops), boolean=True)\n",
    "\n",
    "# cast the lists to np arrays\n",
    "pops = np.array(pops)\n",
    "r_margin = np.array(r_margin)\n",
    "\n",
    "\n",
    "constraints = []\n",
    "\n",
    "# the population of our district shouldn't be too big or too small\n",
    "constraints += [(pops.T @ district >= 726500)]\n",
    "constraints += [(pops.T @ district <= 728500)]\n",
    "\n",
    "\n",
    "\n",
    "# we want to maximize the total republican margin in the district\n",
    "objective = cp.Maximize( r_margin.T @ district)\n",
    "\n",
    "\n",
    "print(\"solving\")\n",
    "prob = cp.Problem(objective,constraints)\n",
    "prob.solve()\n",
    "\n",
    "# Print result.\n",
    "print(\"The optimal value is {}\".format(int( prob.value)))\n",
    "print(\"A solution is probably too big to print, but you can do it in the next block...\")"
   ]
  },
  {
   "cell_type": "code",
   "execution_count": null,
   "metadata": {},
   "outputs": [],
   "source": [
    "print(list(district.value))"
   ]
  },
  {
   "cell_type": "code",
   "execution_count": null,
   "metadata": {},
   "outputs": [],
   "source": []
  }
 ],
 "metadata": {
  "kernelspec": {
   "display_name": "Python 3",
   "language": "python",
   "name": "python3"
  },
  "language_info": {
   "codemirror_mode": {
    "name": "ipython",
    "version": 3
   },
   "file_extension": ".py",
   "mimetype": "text/x-python",
   "name": "python",
   "nbconvert_exporter": "python",
   "pygments_lexer": "ipython3",
   "version": "3.6.8"
  }
 },
 "nbformat": 4,
 "nbformat_minor": 2
}
